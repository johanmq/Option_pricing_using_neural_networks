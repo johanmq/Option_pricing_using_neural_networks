{
 "cells": [
  {
   "cell_type": "markdown",
   "metadata": {},
   "source": [
    "## I. Introduction"
   ]
  },
  {
   "cell_type": "markdown",
   "metadata": {},
   "source": [
    "In this notebook we design simple neural networks from scratch in order to compute European call price. We use the Black & Scholes framework and we use the closed form solution provided by the model as a benchmark for training/evaluating our networks.\n",
    "\n",
    "We will see that the activation function choice has a big impact on network performance. Sigmoid function does not perform well. RELU function performs better but lacks of regularity/smoothing that can be partially fixed with a higher number of layers. ELU function is more smooth that RELU but its negative part leads so significant error when time to maturity is short.\n",
    "\n",
    "We note that the use of time to maturity as a parameter (instead of time alone) has helped to improve networks performances significantly. Instead of pricing the call price directly we price the time value, because the intrinsic value is deterministic and the payoff is then capped with ATM time value.\n",
    "\n",
    "Several tests has shown that a learning rate of 0.05 as well as 6 hidden layers with 30 units in each allows to reach good performance. However, as the point here was to build a simple network from scratch we did not test advanced features as dropout, etc.\n",
    "\n",
    "Overall perfomance is quite good, time value is well predicted for almost every maturity. Difficulties arise when the time to marutity becomes very short (less than 0.05) due to strong variations of time value (strong second orders greeks)."
   ]
  },
  {
   "cell_type": "code",
   "execution_count": 1,
   "metadata": {
    "colab": {},
    "colab_type": "code",
    "id": "Zx65TYBBlwOl"
   },
   "outputs": [
    {
     "name": "stderr",
     "output_type": "stream",
     "text": [
      "C:\\Users\\Johan\\anaconda3\\lib\\site-packages\\tensorflow\\python\\framework\\dtypes.py:516: FutureWarning: Passing (type, 1) or '1type' as a synonym of type is deprecated; in a future version of numpy, it will be understood as (type, (1,)) / '(1,)type'.\n",
      "  _np_qint8 = np.dtype([(\"qint8\", np.int8, 1)])\n",
      "C:\\Users\\Johan\\anaconda3\\lib\\site-packages\\tensorflow\\python\\framework\\dtypes.py:517: FutureWarning: Passing (type, 1) or '1type' as a synonym of type is deprecated; in a future version of numpy, it will be understood as (type, (1,)) / '(1,)type'.\n",
      "  _np_quint8 = np.dtype([(\"quint8\", np.uint8, 1)])\n",
      "C:\\Users\\Johan\\anaconda3\\lib\\site-packages\\tensorflow\\python\\framework\\dtypes.py:518: FutureWarning: Passing (type, 1) or '1type' as a synonym of type is deprecated; in a future version of numpy, it will be understood as (type, (1,)) / '(1,)type'.\n",
      "  _np_qint16 = np.dtype([(\"qint16\", np.int16, 1)])\n",
      "C:\\Users\\Johan\\anaconda3\\lib\\site-packages\\tensorflow\\python\\framework\\dtypes.py:519: FutureWarning: Passing (type, 1) or '1type' as a synonym of type is deprecated; in a future version of numpy, it will be understood as (type, (1,)) / '(1,)type'.\n",
      "  _np_quint16 = np.dtype([(\"quint16\", np.uint16, 1)])\n",
      "C:\\Users\\Johan\\anaconda3\\lib\\site-packages\\tensorflow\\python\\framework\\dtypes.py:520: FutureWarning: Passing (type, 1) or '1type' as a synonym of type is deprecated; in a future version of numpy, it will be understood as (type, (1,)) / '(1,)type'.\n",
      "  _np_qint32 = np.dtype([(\"qint32\", np.int32, 1)])\n",
      "C:\\Users\\Johan\\anaconda3\\lib\\site-packages\\tensorflow\\python\\framework\\dtypes.py:525: FutureWarning: Passing (type, 1) or '1type' as a synonym of type is deprecated; in a future version of numpy, it will be understood as (type, (1,)) / '(1,)type'.\n",
      "  np_resource = np.dtype([(\"resource\", np.ubyte, 1)])\n",
      "C:\\Users\\Johan\\anaconda3\\lib\\site-packages\\tensorboard\\compat\\tensorflow_stub\\dtypes.py:541: FutureWarning: Passing (type, 1) or '1type' as a synonym of type is deprecated; in a future version of numpy, it will be understood as (type, (1,)) / '(1,)type'.\n",
      "  _np_qint8 = np.dtype([(\"qint8\", np.int8, 1)])\n",
      "C:\\Users\\Johan\\anaconda3\\lib\\site-packages\\tensorboard\\compat\\tensorflow_stub\\dtypes.py:542: FutureWarning: Passing (type, 1) or '1type' as a synonym of type is deprecated; in a future version of numpy, it will be understood as (type, (1,)) / '(1,)type'.\n",
      "  _np_quint8 = np.dtype([(\"quint8\", np.uint8, 1)])\n",
      "C:\\Users\\Johan\\anaconda3\\lib\\site-packages\\tensorboard\\compat\\tensorflow_stub\\dtypes.py:543: FutureWarning: Passing (type, 1) or '1type' as a synonym of type is deprecated; in a future version of numpy, it will be understood as (type, (1,)) / '(1,)type'.\n",
      "  _np_qint16 = np.dtype([(\"qint16\", np.int16, 1)])\n",
      "C:\\Users\\Johan\\anaconda3\\lib\\site-packages\\tensorboard\\compat\\tensorflow_stub\\dtypes.py:544: FutureWarning: Passing (type, 1) or '1type' as a synonym of type is deprecated; in a future version of numpy, it will be understood as (type, (1,)) / '(1,)type'.\n",
      "  _np_quint16 = np.dtype([(\"quint16\", np.uint16, 1)])\n",
      "C:\\Users\\Johan\\anaconda3\\lib\\site-packages\\tensorboard\\compat\\tensorflow_stub\\dtypes.py:545: FutureWarning: Passing (type, 1) or '1type' as a synonym of type is deprecated; in a future version of numpy, it will be understood as (type, (1,)) / '(1,)type'.\n",
      "  _np_qint32 = np.dtype([(\"qint32\", np.int32, 1)])\n",
      "C:\\Users\\Johan\\anaconda3\\lib\\site-packages\\tensorboard\\compat\\tensorflow_stub\\dtypes.py:550: FutureWarning: Passing (type, 1) or '1type' as a synonym of type is deprecated; in a future version of numpy, it will be understood as (type, (1,)) / '(1,)type'.\n",
      "  np_resource = np.dtype([(\"resource\", np.ubyte, 1)])\n"
     ]
    }
   ],
   "source": [
    "#%tensorflow_version 1.x\n",
    "import matplotlib.pyplot as plt\n",
    "import numpy as np\n",
    "import tensorflow as tf"
   ]
  },
  {
   "cell_type": "markdown",
   "metadata": {
    "colab_type": "text",
    "id": "hi5BAMUP85eo"
   },
   "source": [
    "## II. Neural Network construction"
   ]
  },
  {
   "cell_type": "markdown",
   "metadata": {
    "colab_type": "text",
    "id": "RRq7Kzh1899I"
   },
   "source": [
    "We assume the learning problem is:\n",
    "$$\\min_{\\theta} \\left\\|\\mathcal{NN}_{\\theta}\\left(X\\right)-Y\\right\\|_2^2$$\n",
    "where $X\\in\\mathcal{M}_{n,d}$, $Y\\in\\mathbb{R}^n$ and $\\mathcal{NN}$ is a neural network parametrized by $\\theta$.\n",
    "\n",
    "Below we tested several networks with variations in the number of hidden layers, hidden units per hidden layer and learning rates. Optimal parameters were finally chosen: respectively 4, 20 and 0.01. Several activation functions for the hidden units are tested below. We will keep a one-dimensional output as the price of the call we want to price."
   ]
  },
  {
   "cell_type": "markdown",
   "metadata": {},
   "source": [
    "We implement a function `construct_densenn_graph(input_dim, output_dim, num_hidden_layers, num_hidden_units, activation, final_activation)` which will construct the graph using tensorflow and return it."
   ]
  },
  {
   "cell_type": "markdown",
   "metadata": {},
   "source": [
    "### Graph construction"
   ]
  },
  {
   "cell_type": "code",
   "execution_count": 2,
   "metadata": {
    "colab": {},
    "colab_type": "code",
    "id": "z4x41bTD7nQo"
   },
   "outputs": [],
   "source": [
    "def construct_densenn_graph(input_dim, output_dim, num_hidden_layers, num_hidden_units, activation,final_activation): \n",
    "    # Building a graph which will be run during the execution phase.\n",
    "    g = tf.Graph()\n",
    "    with g.as_default():\n",
    "        X = tf.placeholder(tf.float32, shape = (None, input_dim), name = 'X')\n",
    "        Y = tf.placeholder(tf.float32, shape = (None, output_dim), name = 'Y')\n",
    "        learningRate = tf.placeholder(tf.float32, shape = [],name = 'learningRate')\n",
    "        # Initialization.\n",
    "        weights, biases = [], []\n",
    "        for i in range(num_hidden_layers+1): #weights and biais matrix construction\n",
    "            dim_prev = input_dim if i==0 else num_hidden_units\n",
    "            num_units = output_dim if i==num_hidden_layers else num_hidden_units\n",
    "            weights.append(tf.get_variable('weights/W'+str(i), \n",
    "                                            shape=(num_units, dim_prev), \n",
    "                                            dtype=tf.float32, \n",
    "                                            initializer=tf.random_normal_initializer(mean=0, stddev=np.sqrt(2)*np.sqrt(2/(num_units+dim_prev)) ))) #optimal initialization, see ML book\n",
    "            biases.append(tf.get_variable('biases/b'+str(i), shape=(num_units, 1), \n",
    "                                            dtype=tf.float32, \n",
    "                                            initializer=tf.zeros_initializer()))\n",
    "        out = tf.transpose(X)\n",
    "        # Building the fundation of the network.\n",
    "        for i in range(num_hidden_layers+1): #output construction\n",
    "            if i < num_hidden_layers: #activation function for the hidden layers\n",
    "                if activation == None:\n",
    "                    out = tf.matmul(weights[i], out)+biases[i]\n",
    "                else:\n",
    "                    out = activation(tf.matmul(weights[i], out)+biases[i])\n",
    "            else: #activation function for the output layer\n",
    "                if final_activation == None:\n",
    "                    out = tf.matmul(weights[i], out)+biases[i]\n",
    "                else:\n",
    "                    out = final_activation(tf.matmul(weights[i], out)+biases[i])\n",
    "        # Getting the ouput of the network.\n",
    "        out = tf.identity(out, name='out')\n",
    "        # Using the MSE loss function.\n",
    "        loss_fct = tf.reduce_mean((tf.transpose(out) - Y)**2, name='loss_fct')  # compute loss function\n",
    "        # Gradient descent optimizer.\n",
    "        gradient_step = tf.train.AdamOptimizer(learning_rate=learningRate).minimize(loss_fct, var_list=weights+biases, name='gradient_step') # compute gradient descent and update weights and biases\n",
    "    return g"
   ]
  },
  {
   "cell_type": "markdown",
   "metadata": {},
   "source": [
    "### Auxiliary functions"
   ]
  },
  {
   "cell_type": "markdown",
   "metadata": {
    "colab_type": "text",
    "id": "Cn3d0_6eD7Qf"
   },
   "source": [
    "We construct the function `eval_densenn(g, X_in, weights_fitted, biases_fitted)` which, given fitted values of the weights and biases, will evaluate the output value of the dense network corresponding to the input `X` **using TensorFlow**."
   ]
  },
  {
   "cell_type": "code",
   "execution_count": 46,
   "metadata": {
    "colab": {},
    "colab_type": "code",
    "id": "WZCdHaAJDyCo"
   },
   "outputs": [],
   "source": [
    "def eval_densenn(g, X_in, weights_fitted, biases_fitted):\n",
    "    X = g.get_tensor_by_name('X:0')\n",
    "    out = g.get_tensor_by_name('out:0')\n",
    "    weights = g.get_collection(tf.GraphKeys.TRAINABLE_VARIABLES, scope='weights')\n",
    "    biases = g.get_collection(tf.GraphKeys.TRAINABLE_VARIABLES, scope='biases')\n",
    "    feed_dict = {k: v for k, v in zip([X,]+weights+biases, [X_in,]+weights_fitted+biases_fitted)}\n",
    "    with tf.Session(graph=g) as sess:\n",
    "        out = sess.run(out, feed_dict=feed_dict)\n",
    "    return out.T"
   ]
  },
  {
   "cell_type": "markdown",
   "metadata": {
    "colab_type": "text",
    "id": "5lMFz4gBHEPt"
   },
   "source": [
    "We now implement a function `fit_densenn_model(g, X_train, Y_train, eps, max_iter, learning_rate)` to train the model."
   ]
  },
  {
   "cell_type": "code",
   "execution_count": 4,
   "metadata": {
    "colab": {},
    "colab_type": "code",
    "id": "OYKDb5I_DXBj"
   },
   "outputs": [],
   "source": [
    "def fit_densenn_model(g, X_train, Y_train, eps, max_iter,learning_rate):\n",
    "    X = g.get_tensor_by_name('X:0')\n",
    "    Y = g.get_tensor_by_name('Y:0')\n",
    "    learningRate = g.get_tensor_by_name('learningRate:0')\n",
    "\n",
    "    gradient_step = g.get_operation_by_name('gradient_step')\n",
    "    loss_fct = g.get_tensor_by_name('loss_fct:0')\n",
    "    weights = g.get_collection(tf.GraphKeys.TRAINABLE_VARIABLES, scope='weights')\n",
    "    biases = g.get_collection(tf.GraphKeys.TRAINABLE_VARIABLES, scope='biases')\n",
    "\n",
    "    #saver = tf.train.Saver()\n",
    "\n",
    "    with tf.Session(graph=g) as sess:\n",
    "        sess.run(tf.global_variables_initializer())\n",
    "        err = np.inf\n",
    "        i = 0\n",
    "\n",
    "        while (err >= eps) and (i < max_iter):\n",
    "            sess.run(gradient_step, feed_dict={X: X_train, Y: Y_train, learningRate: learning_rate})\n",
    "            err = sess.run(loss_fct, feed_dict={X: X_train, Y: Y_train})\n",
    "            i += 1\n",
    "            if i%100==0:\n",
    "                learning_rate *= 0.95                  # decreasing learning rate every 100 epochs\n",
    "        weights_fitted = sess.run(weights)\n",
    "        biases_fitted = sess.run(biases)\n",
    "\n",
    "    return weights_fitted, biases_fitted"
   ]
  },
  {
   "cell_type": "code",
   "execution_count": 5,
   "metadata": {},
   "outputs": [],
   "source": [
    "# Functions to normalize / \"de-normalize\"\n",
    "def denormalize(Z,mean,std):\n",
    "    return( Z*std + mean )\n",
    "\n",
    "def normalize(Z,mean,std):\n",
    "    return( (Z-mean)/std )"
   ]
  },
  {
   "cell_type": "markdown",
   "metadata": {
    "colab_type": "text",
    "id": "X7hjSGBEPAJL"
   },
   "source": [
    "## III. Testing the networks"
   ]
  },
  {
   "cell_type": "markdown",
   "metadata": {},
   "source": [
    "We fix the following parameters:\n",
    "- interest rate r\n",
    "- volatility sigma\n",
    "- strike K\n",
    "- maturity T\n",
    "\n",
    "We look for the call price given the underlying level at time $t$. So our network will have 2 inputs: $S_t$ and time to maturity $T-t$."
   ]
  },
  {
   "cell_type": "markdown",
   "metadata": {},
   "source": [
    "### Call price formula\n",
    "\n",
    "We implement a function to compute the call price in the Black & Scholes framework."
   ]
  },
  {
   "cell_type": "code",
   "execution_count": 6,
   "metadata": {},
   "outputs": [],
   "source": [
    "from scipy.stats import norm"
   ]
  },
  {
   "cell_type": "code",
   "execution_count": 7,
   "metadata": {},
   "outputs": [],
   "source": [
    "def CallPrice(S, K, r, sigma, ttm):\n",
    "    \n",
    "    #ttm = T - t\n",
    "    if ttm < 0:\n",
    "        return 0.\n",
    "    elif ttm == 0.:\n",
    "        return np.maximum(S - K, 0.)\n",
    "\n",
    "    vol = sigma * np.sqrt(ttm)\n",
    "\n",
    "    d_minus = np.log(S / K) + (r - 0.5 * sigma**2) * ttm\n",
    "    d_minus /= vol\n",
    "\n",
    "    d_plus = d_minus + vol\n",
    "\n",
    "    res = S * norm.cdf(d_plus)\n",
    "    res -= K * np.exp(-r * ttm) * norm.cdf(d_minus)\n",
    "    \n",
    "    res -= max(0, S-K)\n",
    "\n",
    "    return res"
   ]
  },
  {
   "cell_type": "markdown",
   "metadata": {},
   "source": [
    "We fix the parameters:"
   ]
  },
  {
   "cell_type": "code",
   "execution_count": 257,
   "metadata": {},
   "outputs": [],
   "source": [
    "r = 0.05\n",
    "sigma = 0.20\n",
    "T = 1.0\n",
    "K = 100.0"
   ]
  },
  {
   "cell_type": "markdown",
   "metadata": {},
   "source": [
    "Generating the sample to train and test our network:"
   ]
  },
  {
   "cell_type": "code",
   "execution_count": 258,
   "metadata": {},
   "outputs": [],
   "source": [
    "ttm = T*np.random.sample(size=(100000, 1)) # we evaluate the call at anytime between 0 and the maturity\n",
    "S = 200*(np.random.sample(size=(100000, 1))) # the underlying can take any value from 0 to 200"
   ]
  },
  {
   "cell_type": "code",
   "execution_count": 259,
   "metadata": {},
   "outputs": [],
   "source": [
    "X_all = np.array([ttm,S]).T\n",
    "X_train = X_all[0,:98000, :]\n",
    "X_valid = X_all[0,98000:99000, :]\n",
    "X_test = X_all[0,99000:, :]"
   ]
  },
  {
   "cell_type": "code",
   "execution_count": 260,
   "metadata": {},
   "outputs": [],
   "source": [
    "# Normalizing the inputs\n",
    "mean_X = [np.mean(X_train[:,0]), np.mean(X_train[:,1])]\n",
    "std_X = [np.std(X_train[:,0]), np.std(X_train[:,1])]\n",
    "\n",
    "X_train = np.array([normalize(X_train[:,0], mean_X[0], std_X[0]) , normalize(X_train[:,1], mean_X[1], std_X[1])] ).transpose()\n",
    "X_valid = np.array([normalize(X_valid[:,0], mean_X[0], std_X[0]) , normalize(X_valid[:,1], mean_X[1], std_X[1])] ).transpose()\n",
    "X_test = np.array([normalize(X_test[:,0], mean_X[0], std_X[0]) , normalize(X_test[:,1], mean_X[1], std_X[1])] ).transpose()"
   ]
  },
  {
   "cell_type": "code",
   "execution_count": 261,
   "metadata": {},
   "outputs": [],
   "source": [
    "Y_all = []\n",
    "for i in range(0,100000):\n",
    "    Y_all.append(CallPrice(X_all[0,i, 1], K, r, sigma, X_all[0,i, 0]))"
   ]
  },
  {
   "cell_type": "code",
   "execution_count": 262,
   "metadata": {},
   "outputs": [
    {
     "data": {
      "text/plain": [
       "[<matplotlib.lines.Line2D at 0x288936d6688>]"
      ]
     },
     "execution_count": 262,
     "metadata": {},
     "output_type": "execute_result"
    },
    {
     "data": {
      "image/png": "[encoded data removed]",
      "text/plain": [
       "<Figure size 432x288 with 2 Axes>"
      ]
     },
     "metadata": {
      "needs_background": "light"
     },
     "output_type": "display_data"
    }
   ],
   "source": [
    "#checking output\n",
    "plt.figure()\n",
    "plt.title('Time value depending on time-to-maturity (above) and spot price (below)')\n",
    "plt.subplot(211)\n",
    "plt.plot(X_all[0,:, 0],Y_all)\n",
    "plt.subplot(212)\n",
    "plt.plot(X_all[0,:, 1],Y_all)"
   ]
  },
  {
   "cell_type": "code",
   "execution_count": 263,
   "metadata": {},
   "outputs": [],
   "source": [
    "Y_all = np.array([np.array(Y_all)]).T\n",
    "Y_train = Y_all[:98000, :]\n",
    "Y_valid = Y_all[98000:99000, :]\n",
    "Y_test = Y_all[99000:, :]"
   ]
  },
  {
   "cell_type": "code",
   "execution_count": 264,
   "metadata": {},
   "outputs": [],
   "source": [
    "# Normalizing the outputs\n",
    "mean_Y = np.mean(Y_train)\n",
    "std_Y = np.std(Y_train)\n",
    "\n",
    "Y_train = normalize(Y_train, mean_Y, std_Y)\n",
    "Y_valid = normalize(Y_valid, mean_Y, std_Y)\n",
    "Y_test = normalize(Y_test, mean_Y, std_Y)"
   ]
  },
  {
   "cell_type": "markdown",
   "metadata": {},
   "source": [
    "### Tunning the network\n",
    "\n",
    "Considering the shape of the theoretical price we choose Elu function for activation function on hidden layers and no final activation function.\n",
    "\n",
    "We go through a grid to find the optimal parameters among the number of hidden layers, the number of units per layer and the learning rate."
   ]
  },
  {
   "cell_type": "code",
   "execution_count": 265,
   "metadata": {},
   "outputs": [],
   "source": [
    "import time"
   ]
  },
  {
   "cell_type": "code",
   "execution_count": 282,
   "metadata": {},
   "outputs": [],
   "source": [
    "#nb_layer_list = [int(x) for x in np.linspace(3, 7, num = 5)]\n",
    "nb_unit_list = [int(x) for x in np.linspace(10, 30, num = 5)]\n",
    "learning_rate_list = [x/100 for x in np.linspace(0.5, 5, num = 10)] #\n",
    "\n",
    "activation_list = [tf.nn.elu, tf.nn.relu, tf.nn.sigmoid]\n",
    "final_activation = None\n",
    "\n",
    "eps = 1e-8\n",
    "max_iter = 1000\n",
    "best_valid_err = np.inf\n",
    "hist = []"
   ]
  },
  {
   "cell_type": "code",
   "execution_count": 283,
   "metadata": {
    "scrolled": true
   },
   "outputs": [
    {
     "name": "stdout",
     "output_type": "stream",
     "text": [
      "nb layer : 6\n",
      "Best model for now: nb layer = 6, nb unit = 23, learning rate = 0.050, activation = <function relu at 0x00000288EB79C558>\n",
      "Best model for now: nb layer = 6, nb unit = 25, learning rate = 0.050, activation = <function relu at 0x00000288EB79C558>\n",
      "Best model for now: nb layer = 6, nb unit = 30, learning rate = 0.050, activation = <function relu at 0x00000288EB79C558>\n",
      "Best learning rate: 0.05 Best validation error 0.00024078237013227443\n"
     ]
    }
   ],
   "source": [
    "for nb_layer in nb_layer_list:\n",
    "    print('nb layer :', nb_layer)\n",
    "    for nb_unit in nb_unit_list:\n",
    "        for learning_rate in learning_rate_list:\n",
    "            for activation in activation_list :\n",
    "                call_nn = construct_densenn_graph(X_train.shape[1],Y_train.shape[1], nb_layer, nb_unit, activation, final_activation)\n",
    "                weights_fitted, biases_fitted = fit_densenn_model(call_nn, X_train[:50000,:], Y_train[:50000,:], eps, max_iter, learning_rate)\n",
    "                t = time.time()\n",
    "                valid_err = np.mean((eval_densenn(call_nn, X_valid, weights_fitted, biases_fitted) - Y_valid)**2)\n",
    "                hist.append([nb_layer, nb_unit, learning_rate, valid_err, time.time()-t])\n",
    "                #print(nb_layer,nb_unit)\n",
    "                if valid_err < best_valid_err:\n",
    "                    best_valid_err = valid_err\n",
    "                    best_weights_fitted, best_biases_fitted = weights_fitted, biases_fitted\n",
    "                    best_learning_rate = learning_rate\n",
    "                    best_call_nn = call_nn\n",
    "                    print('Best model for now: nb layer = %d, nb unit = %d, learning rate = %.3f, activation = %s'%(nb_layer,nb_unit,learning_rate,activation))\n",
    "                \n",
    "print('Best learning rate:',best_learning_rate,'Best validation error', best_valid_err)"
   ]
  },
  {
   "cell_type": "code",
   "execution_count": 320,
   "metadata": {},
   "outputs": [],
   "source": [
    "best_call_nn = construct_densenn_graph(X_train.shape[1],Y_train.shape[1], 6, 30, tf.nn.relu, None)\n",
    "best_weights_fitted, best_biases_fitted = fit_densenn_model(best_call_nn, X_train, Y_train, eps, max_iter, 0.05) #[:50000,:]"
   ]
  },
  {
   "cell_type": "markdown",
   "metadata": {},
   "source": [
    "We now represent on graphs the network results for several valuation times."
   ]
  },
  {
   "cell_type": "code",
   "execution_count": 338,
   "metadata": {},
   "outputs": [],
   "source": [
    "ttm = 0.25 # Valuation at time 0.75 year\n",
    "_x = np.array([np.ones(101)*ttm,np.linspace(50, 150, 101)]).T\n",
    "_x_norm = np.array([normalize(_x[:,0], mean_X[0], std_X[0]) , normalize(_x[:,1], mean_X[1], std_X[1])] ).transpose()"
   ]
  },
  {
   "cell_type": "code",
   "execution_count": 339,
   "metadata": {},
   "outputs": [],
   "source": [
    "true_y = []\n",
    "for i in range(0,101):\n",
    "    true_y.append(CallPrice(_x[i,1],K, r, sigma, _x[i,0]))\n",
    "true_y = np.array(true_y)"
   ]
  },
  {
   "cell_type": "code",
   "execution_count": 340,
   "metadata": {},
   "outputs": [
    {
     "data": {
      "image/png": "[encoded data removed]",
      "text/plain": [
       "<Figure size 606x404 with 1 Axes>"
      ]
     },
     "metadata": {
      "needs_background": "light"
     },
     "output_type": "display_data"
    }
   ],
   "source": [
    "predicted_y_nn = eval_densenn(best_call_nn, _x_norm, best_weights_fitted, best_biases_fitted).ravel()\n",
    "plt.figure(dpi=101)\n",
    "plt.plot(_x[:,1], true_y, label='true value')\n",
    "plt.plot(_x[:,1], denormalize(predicted_y_nn,mean_Y,std_Y), label='predicted value')\n",
    "plt.xlabel('x')\n",
    "plt.ylabel('y')\n",
    "plt.title('Call time-value prediction for valuation time t=%.2f'%(1-ttm))\n",
    "plt.legend(frameon=False);"
   ]
  },
  {
   "cell_type": "code",
   "execution_count": 341,
   "metadata": {},
   "outputs": [],
   "source": [
    "ttm = 0.99 # Valuation after inception\n",
    "_x = np.array([np.ones(101)*ttm,np.linspace(50, 150, 101)]).T\n",
    "_x_norm = np.array([normalize(_x[:,0], mean_X[0], std_X[0]) , normalize(_x[:,1], mean_X[1], std_X[1])] ).transpose()"
   ]
  },
  {
   "cell_type": "code",
   "execution_count": 342,
   "metadata": {},
   "outputs": [],
   "source": [
    "true_y = []\n",
    "for i in range(0,101):\n",
    "    true_y.append(CallPrice(_x[i,1], K, r, sigma, _x[i,0]))\n",
    "true_y = np.array(true_y)"
   ]
  },
  {
   "cell_type": "code",
   "execution_count": 343,
   "metadata": {},
   "outputs": [
    {
     "data": {
      "image/png": "[encoded data removed]",
      "text/plain": [
       "<Figure size 606x404 with 1 Axes>"
      ]
     },
     "metadata": {
      "needs_background": "light"
     },
     "output_type": "display_data"
    }
   ],
   "source": [
    "predicted_y_nn = eval_densenn(best_call_nn, _x_norm, best_weights_fitted, best_biases_fitted).ravel()\n",
    "plt.figure(dpi=101)\n",
    "plt.plot(_x[:,1], true_y, label='true value')\n",
    "plt.plot(_x[:,1], denormalize(predicted_y_nn,mean_Y,std_Y), label='predicted value')\n",
    "plt.xlabel('x')\n",
    "plt.ylabel('y')\n",
    "plt.title('Call time-value prediction for valuation time t=%.2f'%(1-ttm))\n",
    "plt.legend(frameon=False);"
   ]
  },
  {
   "cell_type": "code",
   "execution_count": 361,
   "metadata": {},
   "outputs": [],
   "source": [
    "ttm = 0.01 # Valuation just before maturity\n",
    "_x = np.array([np.ones(101)*ttm,np.linspace(50, 150, 101)]).T\n",
    "_x_norm = np.array([normalize(_x[:,0], mean_X[0], std_X[0]) , normalize(_x[:,1], mean_X[1], std_X[1])] ).transpose()"
   ]
  },
  {
   "cell_type": "code",
   "execution_count": 362,
   "metadata": {},
   "outputs": [],
   "source": [
    "true_y = []\n",
    "for i in range(0,101):\n",
    "    true_y.append(CallPrice(_x[i,1], K, r, sigma, _x[i,0]))\n",
    "true_y = np.array(true_y)"
   ]
  },
  {
   "cell_type": "code",
   "execution_count": 363,
   "metadata": {},
   "outputs": [
    {
     "data": {
      "image/png": "[encoded data removed]",
      "text/plain": [
       "<Figure size 606x404 with 1 Axes>"
      ]
     },
     "metadata": {
      "needs_background": "light"
     },
     "output_type": "display_data"
    }
   ],
   "source": [
    "predicted_y_nn = eval_densenn(best_call_nn, _x_norm, best_weights_fitted, best_biases_fitted).ravel()\n",
    "plt.figure(dpi=101)\n",
    "plt.plot(_x[:,1], true_y, label='true value')\n",
    "plt.plot(_x[:,1], denormalize(predicted_y_nn,mean_Y,std_Y), label='predicted value')\n",
    "plt.xlabel('x')\n",
    "plt.ylabel('y')\n",
    "plt.title('Call time-value prediction for valuation time t=%.2f'%(1-ttm))\n",
    "plt.legend(frameon=False);"
   ]
  },
  {
   "cell_type": "markdown",
   "metadata": {},
   "source": [
    "Below we represent the results of the network on the test sample."
   ]
  },
  {
   "cell_type": "code",
   "execution_count": 350,
   "metadata": {},
   "outputs": [
    {
     "name": "stdout",
     "output_type": "stream",
     "text": [
      "MSE on test sample: 8.595599866754997e-05\n"
     ]
    }
   ],
   "source": [
    "test_y_nn = eval_densenn(best_call_nn, X_test, best_weights_fitted, best_biases_fitted).ravel()\n",
    "test_err = np.mean((test_y_nn - Y_test[:,0])**2)\n",
    "print('MSE on test sample:',test_err)"
   ]
  },
  {
   "cell_type": "code",
   "execution_count": 351,
   "metadata": {},
   "outputs": [
    {
     "data": {
      "image/png": "[encoded data removed]",
      "text/plain": [
       "<Figure size 432x288 with 1 Axes>"
      ]
     },
     "metadata": {
      "needs_background": "light"
     },
     "output_type": "display_data"
    }
   ],
   "source": [
    "plt.plot(X_test[:,1],denormalize(Y_test,mean_Y,std_Y),'.',label='true value')\n",
    "plt.plot(X_test[:,1],denormalize(test_y_nn,mean_Y,std_Y),'.',label='predicted value')\n",
    "plt.xlabel('x')\n",
    "plt.ylabel('y')\n",
    "plt.title('Prediction on test sample')\n",
    "plt.legend(frameon=False);"
   ]
  },
  {
   "cell_type": "markdown",
   "metadata": {},
   "source": [
    "## IV. Opening"
   ]
  },
  {
   "cell_type": "markdown",
   "metadata": {},
   "source": [
    "We could generate call prices from a more sophisticated model (stochastic volatility and interest rate) and Monte Carlo simulations, then train our networks using more input parameters: time to maturity, spot price, strike, interest rates/volatility process parameters. This would require a bigger and more complex network and a greater computation power.\n",
    "\n",
    "Usually, prices are not computing directly by neural networks. You can find on another repository an application of neural networks to replicate implied volatility surface from a SABR model. This help to reduce significantly the pricing time when computing complex prices with Monte Carlo techniques (as for exotic derivatives)."
   ]
  },
  {
   "cell_type": "code",
   "execution_count": null,
   "metadata": {},
   "outputs": [],
   "source": []
  },
  {
   "cell_type": "code",
   "execution_count": null,
   "metadata": {},
   "outputs": [],
   "source": []
  }
 ],
 "metadata": {
  "accelerator": "GPU",
  "colab": {
   "collapsed_sections": [],
   "name": "TD 3 - Regression using Neural Networks - Answers",
   "provenance": []
  },
  "kernelspec": {
   "display_name": "Python 3",
   "language": "python",
   "name": "python3"
  },
  "language_info": {
   "codemirror_mode": {
    "name": "ipython",
    "version": 3
   },
   "file_extension": ".py",
   "mimetype": "text/x-python",
   "name": "python",
   "nbconvert_exporter": "python",
   "pygments_lexer": "ipython3",
   "version": "3.7.6"
  }
 },
 "nbformat": 4,
 "nbformat_minor": 1
}
